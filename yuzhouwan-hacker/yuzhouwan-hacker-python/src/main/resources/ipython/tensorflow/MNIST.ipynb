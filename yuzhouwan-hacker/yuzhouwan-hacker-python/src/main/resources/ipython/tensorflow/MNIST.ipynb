{
 "cells": [
  {
   "cell_type": "code",
   "execution_count": 20,
   "metadata": {
    "scrolled": true
   },
   "outputs": [],
   "source": [
    "import tensorflow as tf"
   ]
  },
  {
   "cell_type": "code",
   "execution_count": 21,
   "metadata": {},
   "outputs": [
    {
     "name": "stdout",
     "output_type": "stream",
     "text": [
      "Extracting MNIST_data/train-images-idx3-ubyte.gz\n",
      "Extracting MNIST_data/train-labels-idx1-ubyte.gz\n",
      "Extracting MNIST_data/t10k-images-idx3-ubyte.gz\n",
      "Extracting MNIST_data/t10k-labels-idx1-ubyte.gz\n"
     ]
    }
   ],
   "source": [
    "# Download MNIST datasource\n",
    "# 6w个 28 * 28个像素的手写数字图片集\n",
    "# 用 [60000, 784]的张量表示 [图片索引, 图片像素点索引]\n",
    "from tensorflow.examples.tutorials.mnist import input_data\n",
    "\n",
    "# `one-hot vectors`：向量中只有一个数据为 1，其余维度只能为 0\n",
    "# 转化为 [60000, 10]的张量表示 [图片索引, 图片表示的数值]\n",
    "mnist = input_data.read_data_sets(\"MNIST_data/\", one_hot=True)"
   ]
  },
  {
   "cell_type": "code",
   "execution_count": 50,
   "metadata": {
    "collapsed": true
   },
   "outputs": [],
   "source": [
    "# 28 * 28 = 784的占位符\n",
    "# None表示可能是任何数值\n",
    "x = tf.placeholder(tf.float32, [None, 784])\n",
    "y = tf.placeholder(tf.float32, [None,10])"
   ]
  },
  {
   "cell_type": "code",
   "execution_count": 51,
   "metadata": {
    "collapsed": true
   },
   "outputs": [],
   "source": [
    "# 权重值和偏置量\n",
    "W = tf.Variable(tf.zeros([784, 10]))\n",
    "b = tf.Variable(tf.zeros([10]))\n",
    "\n",
    "# softmax回归模型\n",
    "prediction = tf.nn.softmax(tf.matmul(x, W) + b)"
   ]
  },
  {
   "cell_type": "code",
   "execution_count": 52,
   "metadata": {},
   "outputs": [],
   "source": [
    "# Loss Function: 交叉熵\n",
    "loss = tf.reduce_mean(-tf.reduce_sum(y * tf.log(prediction), reduction_indices=[1]))\n",
    "# loss = tf.reduce_mean(tf.square(y - prediction))\n",
    "\n",
    "# 梯度下降\n",
    "train_step = tf.train.GradientDescentOptimizer(0.2).minimize(loss)"
   ]
  },
  {
   "cell_type": "code",
   "execution_count": 53,
   "metadata": {},
   "outputs": [
    {
     "name": "stdout",
     "output_type": "stream",
     "text": [
      "Batch:  0 Accuracy:  0.908\n",
      "Batch:  10 Accuracy:  0.9224\n",
      "Batch:  20 Accuracy:  0.9247\n",
      "Batch:  30 Accuracy:  0.925\n",
      "Batch:  40 Accuracy:  0.9255\n",
      "Batch:  50 Accuracy:  0.9262\n"
     ]
    }
   ],
   "source": [
    "# 评估模型\n",
    "# 判断 一维张量 y、prediction中最大值的位置是否相等\n",
    "correct_prediction = tf.equal(tf.argmax(y, 1), tf.argmax(prediction,1))\n",
    "# 准确率\n",
    "# 将 布尔型列表 corrent_prediction转化为 float32类型\n",
    "# [true, false, false, ...]  => [1.0, 0., 0., ...]\n",
    "accuracy = tf.reduce_mean(tf.cast(correct_prediction, tf.float32))\n",
    "\n",
    "with tf.Session() as sess:\n",
    "    tf.global_variables_initializer().run()\n",
    "\n",
    "    batch_size = 100\n",
    "    batch = (int) (60000 / batch_size)\n",
    "    # batch = mnist.train.num_examples\n",
    "    \n",
    "    # 训练 50次\n",
    "    for _ in range(51):\n",
    "        for batch_step in range(batch):\n",
    "            batch_xs, batch_ys = mnist.train.next_batch(batch_size)\n",
    "            sess.run(train_step, feed_dict = {x: batch_xs, y: batch_ys})\n",
    "\n",
    "        if (_ % 10) == 0:\n",
    "            accuracy_ = sess.run(accuracy, feed_dict = {x: mnist.test.images, y: mnist.test.labels})\n",
    "            print(\"Batch: \", _, \"Accuracy: \", accuracy_)"
   ]
  }
 ],
 "metadata": {
  "anaconda-cloud": {},
  "kernelspec": {
   "display_name": "Python 3",
   "language": "python",
   "name": "python3"
  },
  "language_info": {
   "codemirror_mode": {
    "name": "ipython",
    "version": 3
   },
   "file_extension": ".py",
   "mimetype": "text/x-python",
   "name": "python",
   "nbconvert_exporter": "python",
   "pygments_lexer": "ipython3",
   "version": "3.5.3"
  }
 },
 "nbformat": 4,
 "nbformat_minor": 2
}
