{
 "cells": [
  {
   "cell_type": "code",
   "execution_count": 1,
   "metadata": {
    "collapsed": true
   },
   "outputs": [],
   "source": [
    "import tensorflow as tf\n",
    "from tensorflow.examples.tutorials.mnist import input_data"
   ]
  },
  {
   "cell_type": "code",
   "execution_count": 2,
   "metadata": {},
   "outputs": [
    {
     "name": "stdout",
     "output_type": "stream",
     "text": [
      "Extracting MNIST_data\\train-images-idx3-ubyte.gz\n",
      "Extracting MNIST_data\\train-labels-idx1-ubyte.gz\n",
      "Extracting MNIST_data\\t10k-images-idx3-ubyte.gz\n",
      "Extracting MNIST_data\\t10k-labels-idx1-ubyte.gz\n"
     ]
    }
   ],
   "source": [
    "mnist = input_data.read_data_sets('MNIST_data', one_hot=True)"
   ]
  },
  {
   "cell_type": "code",
   "execution_count": 3,
   "metadata": {
    "collapsed": true
   },
   "outputs": [],
   "source": [
    "def weight_variable(shape, name):\n",
    "    initial = tf.truncated_normal(shape=shape, stddev=0.1)\n",
    "    return tf.Variable(initial_value=initial, name=name)\n",
    "\n",
    "def bias_variable(shape, name):\n",
    "    initial = tf.constant(0.1, shape=shape)\n",
    "    return tf.Variable(initial_value=initial, name=name)\n",
    "\n",
    "def conv2d(x, W):\n",
    "    return tf.nn.conv2d(x, W, strides=[1, 1, 1, 1], padding='SAME')\n",
    "\n",
    "def max_pool_2x2(x):\n",
    "    return tf.nn.max_pool(x, ksize=[1, 2, 2, 1], strides=[1, 2, 2, 1], padding='SAME')"
   ]
  },
  {
   "cell_type": "code",
   "execution_count": 4,
   "metadata": {
    "collapsed": true
   },
   "outputs": [],
   "source": [
    "x = tf.placeholder(tf.float32, [None, 784], name='x-input')\n",
    "y = tf.placeholder(tf.float32, [None, 10], name='y-input')\n",
    "lr = tf.Variable(0.001, dtype = tf.float32)\n",
    "\n",
    "x_image = tf.reshape(x, [-1, 28, 28, 1], name='x_image')\n",
    "\n",
    "W_conv1 = weight_variable([5, 5, 1, 32], name='W_conv1')\n",
    "b_conv1 = bias_variable([32], name='b_conv1')\n",
    "conv2d_1 = conv2d(x_image, W_conv1) + b_conv1\n",
    "h_conv1 = tf.nn.relu(conv2d_1)\n",
    "h_pool1 = max_pool_2x2(h_conv1)\n",
    "\n",
    "W_conv2 = weight_variable([5, 5, 32, 64], name='W_conv2')\n",
    "b_conv2 = bias_variable([64], name='b_conv2')\n",
    "conv2d_2 = conv2d(h_pool1, W_conv2) + b_conv2\n",
    "h_conv2 = tf.nn.relu(conv2d_2)\n",
    "h_pool2 = max_pool_2x2(h_conv2)"
   ]
  },
  {
   "cell_type": "code",
   "execution_count": 5,
   "metadata": {
    "collapsed": true,
    "scrolled": true
   },
   "outputs": [],
   "source": [
    "W_fc1 = weight_variable([7 * 7 * 64, 1000], name='W_fc1')\n",
    "b_fc1 = bias_variable([1000], name='b_fc1')\n",
    "\n",
    "h_pool2_flat = tf.reshape(h_pool2, [-1, 7 * 7 * 64], name='h_pool2_flat')\n",
    "wx_plus_b1 = tf.matmul(h_pool2_flat, W_fc1) + b_fc1\n",
    "h_fc1 = tf.nn.relu(wx_plus_b1)\n",
    "keep_prob = tf.placeholder(tf.float32, name='keep_prob')\n",
    "h_fc1_drop = tf.nn.dropout(h_fc1, keep_prob, name='h_fc1_drop')\n",
    "\n",
    "W_fc2 = weight_variable([1000, 10], name='W_fc2')\n",
    "b_fc2 = bias_variable([10], name='b_fc2')\n",
    "\n",
    "wx_plus_b2 = tf.matmul(h_fc1_drop, W_fc2) + b_fc2\n",
    "prediction = tf.nn.softmax(wx_plus_b2)"
   ]
  },
  {
   "cell_type": "code",
   "execution_count": 6,
   "metadata": {
    "collapsed": true
   },
   "outputs": [],
   "source": [
    "cross_entropy = tf.reduce_mean(tf.nn.softmax_cross_entropy_with_logits(labels=y, logits=prediction), name='cross_entropy')\n",
    "train_step = tf.train.AdamOptimizer(lr).minimize(cross_entropy)\n",
    "\n",
    "correct_prediction = tf.equal(tf.argmax(prediction, 1), tf.argmax(y, 1))\n",
    "accuracy = tf.reduce_mean(tf.cast(correct_prediction, tf.float32))"
   ]
  },
  {
   "cell_type": "code",
   "execution_count": 7,
   "metadata": {},
   "outputs": [
    {
     "name": "stdout",
     "output_type": "stream",
     "text": [
      "Iterator:  0 Accuracy: 0.954\n",
      "Iterator:  20 Accuracy: 0.9912\n",
      "Iterator:  40 Accuracy: 0.9916\n",
      "Iterator:  60 Accuracy: 0.9924\n",
      "Iterator:  80 Accuracy: 0.9924\n",
      "Iterator:  100 Accuracy: 0.9926\n"
     ]
    }
   ],
   "source": [
    "with tf.device('/gpu:0'):\n",
    "    with tf.Session() as sess:\n",
    "        tf.global_variables_initializer().run()\n",
    "\n",
    "        batch_size = 100\n",
    "        batch = (int) (60000 / batch_size)\n",
    "\n",
    "        for _ in range(101):\n",
    "            sess.run(tf.assign(lr, 0.0001 * (0.95 ** _)))\n",
    "            for batch_step  in range(batch):\n",
    "                batch_xs, batch_ys = mnist.train.next_batch(batch_size)\n",
    "                sess.run(train_step, feed_dict={x: batch_xs, y: batch_ys, keep_prob: 0.68})\n",
    "\n",
    "            if _ % 20 == 0:\n",
    "                test_acc = sess.run(accuracy,feed_dict={x: mnist.test.images, y: mnist.test.labels, keep_prob: 1.0})\n",
    "                print(\"Iterator: \", _, \"Accuracy:\", test_acc)"
   ]
  }
 ],
 "metadata": {
  "kernelspec": {
   "display_name": "Python 3",
   "language": "python",
   "name": "python3"
  },
  "language_info": {
   "codemirror_mode": {
    "name": "ipython",
    "version": 3
   },
   "file_extension": ".py",
   "mimetype": "text/x-python",
   "name": "python",
   "nbconvert_exporter": "python",
   "pygments_lexer": "ipython3",
   "version": "3.5.3"
  }
 },
 "nbformat": 4,
 "nbformat_minor": 2
}
